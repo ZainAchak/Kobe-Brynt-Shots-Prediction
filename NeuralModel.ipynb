{
 "cells": [
  {
   "cell_type": "code",
   "execution_count": 62,
   "metadata": {},
   "outputs": [],
   "source": [
    "\"\"\"\n",
    "Importing Libraries\n",
    "* Pandas --> for Dataset Manipulation\n",
    "* Keras --> for Implementing MLP \n",
    "* Numpy --> for Mathmatical tasks\n",
    "* Dropout --> for Regularization of neural network (To prevent model from overfitting)\n",
    "* preprocessing --> for Scaling dataset (Normalization)\n",
    "* seaborn, plotly and matplotlib --> for Visualization\n",
    "* precision_recall_fscore_support --> for evaluating model\n",
    "\"\"\"\n",
    "\n",
    "import pandas as pd\n",
    "from keras.optimizers import SGD\n",
    "import numpy as np\n",
    "from keras.layers import Dropout\n",
    "import matplotlib.pyplot as plt\n",
    "import seaborn as sns\n",
    "from sklearn.metrics import precision_recall_fscore_support\n",
    "from sklearn.metrics import confusion_matrix"
   ]
  },
  {
   "cell_type": "code",
   "execution_count": 63,
   "metadata": {},
   "outputs": [
    {
     "name": "stdout",
     "output_type": "stream",
     "text": [
      "3.6.12\n"
     ]
    }
   ],
   "source": [
    "\"\"\"\n",
    "Python Version Used for this program is 3.6.12\n",
    "\"\"\"\n",
    "from platform import python_version\n",
    "print(python_version())"
   ]
  },
  {
   "cell_type": "code",
   "execution_count": 64,
   "metadata": {},
   "outputs": [],
   "source": [
    "\"\"\"\n",
    "scaled_dataset.csv is the preprocessed Dataset of the Kobe Braynt Dataset\n",
    "Preprocessed by main.ipynb script. \n",
    "\"\"\"\n",
    "dataset = pd.read_csv('scaled_dataset.csv')"
   ]
  },
  {
   "cell_type": "code",
   "execution_count": 65,
   "metadata": {},
   "outputs": [
    {
     "data": {
      "text/html": [
       "<div>\n",
       "<style scoped>\n",
       "    .dataframe tbody tr th:only-of-type {\n",
       "        vertical-align: middle;\n",
       "    }\n",
       "\n",
       "    .dataframe tbody tr th {\n",
       "        vertical-align: top;\n",
       "    }\n",
       "\n",
       "    .dataframe thead th {\n",
       "        text-align: right;\n",
       "    }\n",
       "</style>\n",
       "<table border=\"1\" class=\"dataframe\">\n",
       "  <thead>\n",
       "    <tr style=\"text-align: right;\">\n",
       "      <th></th>\n",
       "      <th>Unnamed: 0</th>\n",
       "      <th>action_type__x0_Alley Oop Dunk Shot</th>\n",
       "      <th>action_type__x0_Alley Oop Layup shot</th>\n",
       "      <th>action_type__x0_Cutting Layup Shot</th>\n",
       "      <th>action_type__x0_Driving Bank shot</th>\n",
       "      <th>action_type__x0_Driving Dunk Shot</th>\n",
       "      <th>action_type__x0_Driving Finger Roll Layup Shot</th>\n",
       "      <th>action_type__x0_Driving Finger Roll Shot</th>\n",
       "      <th>action_type__x0_Driving Floating Bank Jump Shot</th>\n",
       "      <th>action_type__x0_Driving Floating Jump Shot</th>\n",
       "      <th>...</th>\n",
       "      <th>lat</th>\n",
       "      <th>loc_x</th>\n",
       "      <th>loc_y</th>\n",
       "      <th>lon</th>\n",
       "      <th>minutes_remaining</th>\n",
       "      <th>period</th>\n",
       "      <th>playoffs</th>\n",
       "      <th>seconds_remaining</th>\n",
       "      <th>shot_distance</th>\n",
       "      <th>shot_made_flag</th>\n",
       "    </tr>\n",
       "  </thead>\n",
       "  <tbody>\n",
       "    <tr>\n",
       "      <th>0</th>\n",
       "      <td>0</td>\n",
       "      <td>0.0</td>\n",
       "      <td>0.0</td>\n",
       "      <td>0.0</td>\n",
       "      <td>0.0</td>\n",
       "      <td>0.0</td>\n",
       "      <td>0.0</td>\n",
       "      <td>0.0</td>\n",
       "      <td>0.0</td>\n",
       "      <td>0.0</td>\n",
       "      <td>...</td>\n",
       "      <td>0.947305</td>\n",
       "      <td>0.186747</td>\n",
       "      <td>0.052695</td>\n",
       "      <td>0.186747</td>\n",
       "      <td>0.909091</td>\n",
       "      <td>0.000000</td>\n",
       "      <td>0.0</td>\n",
       "      <td>0.372881</td>\n",
       "      <td>0.189873</td>\n",
       "      <td>0.0</td>\n",
       "    </tr>\n",
       "    <tr>\n",
       "      <th>1</th>\n",
       "      <td>1</td>\n",
       "      <td>0.0</td>\n",
       "      <td>0.0</td>\n",
       "      <td>0.0</td>\n",
       "      <td>0.0</td>\n",
       "      <td>0.0</td>\n",
       "      <td>0.0</td>\n",
       "      <td>0.0</td>\n",
       "      <td>0.0</td>\n",
       "      <td>0.0</td>\n",
       "      <td>...</td>\n",
       "      <td>0.785629</td>\n",
       "      <td>0.299197</td>\n",
       "      <td>0.214371</td>\n",
       "      <td>0.299197</td>\n",
       "      <td>0.636364</td>\n",
       "      <td>0.000000</td>\n",
       "      <td>0.0</td>\n",
       "      <td>0.762712</td>\n",
       "      <td>0.202532</td>\n",
       "      <td>1.0</td>\n",
       "    </tr>\n",
       "    <tr>\n",
       "      <th>2</th>\n",
       "      <td>2</td>\n",
       "      <td>0.0</td>\n",
       "      <td>0.0</td>\n",
       "      <td>0.0</td>\n",
       "      <td>0.0</td>\n",
       "      <td>0.0</td>\n",
       "      <td>0.0</td>\n",
       "      <td>0.0</td>\n",
       "      <td>0.0</td>\n",
       "      <td>0.0</td>\n",
       "      <td>...</td>\n",
       "      <td>0.737725</td>\n",
       "      <td>0.779116</td>\n",
       "      <td>0.262275</td>\n",
       "      <td>0.779116</td>\n",
       "      <td>0.545455</td>\n",
       "      <td>0.000000</td>\n",
       "      <td>0.0</td>\n",
       "      <td>0.881356</td>\n",
       "      <td>0.278481</td>\n",
       "      <td>0.0</td>\n",
       "    </tr>\n",
       "    <tr>\n",
       "      <th>3</th>\n",
       "      <td>3</td>\n",
       "      <td>0.0</td>\n",
       "      <td>0.0</td>\n",
       "      <td>0.0</td>\n",
       "      <td>0.0</td>\n",
       "      <td>1.0</td>\n",
       "      <td>0.0</td>\n",
       "      <td>0.0</td>\n",
       "      <td>0.0</td>\n",
       "      <td>0.0</td>\n",
       "      <td>...</td>\n",
       "      <td>0.947305</td>\n",
       "      <td>0.502008</td>\n",
       "      <td>0.052695</td>\n",
       "      <td>0.502008</td>\n",
       "      <td>0.545455</td>\n",
       "      <td>0.166667</td>\n",
       "      <td>0.0</td>\n",
       "      <td>0.322034</td>\n",
       "      <td>0.000000</td>\n",
       "      <td>1.0</td>\n",
       "    </tr>\n",
       "    <tr>\n",
       "      <th>4</th>\n",
       "      <td>4</td>\n",
       "      <td>0.0</td>\n",
       "      <td>0.0</td>\n",
       "      <td>0.0</td>\n",
       "      <td>0.0</td>\n",
       "      <td>0.0</td>\n",
       "      <td>0.0</td>\n",
       "      <td>0.0</td>\n",
       "      <td>0.0</td>\n",
       "      <td>0.0</td>\n",
       "      <td>...</td>\n",
       "      <td>0.960479</td>\n",
       "      <td>0.210843</td>\n",
       "      <td>0.039521</td>\n",
       "      <td>0.210843</td>\n",
       "      <td>0.818182</td>\n",
       "      <td>0.333333</td>\n",
       "      <td>0.0</td>\n",
       "      <td>0.542373</td>\n",
       "      <td>0.177215</td>\n",
       "      <td>0.0</td>\n",
       "    </tr>\n",
       "  </tbody>\n",
       "</table>\n",
       "<p>5 rows × 92 columns</p>\n",
       "</div>"
      ],
      "text/plain": [
       "   Unnamed: 0  action_type__x0_Alley Oop Dunk Shot  \\\n",
       "0           0                                  0.0   \n",
       "1           1                                  0.0   \n",
       "2           2                                  0.0   \n",
       "3           3                                  0.0   \n",
       "4           4                                  0.0   \n",
       "\n",
       "   action_type__x0_Alley Oop Layup shot  action_type__x0_Cutting Layup Shot  \\\n",
       "0                                   0.0                                 0.0   \n",
       "1                                   0.0                                 0.0   \n",
       "2                                   0.0                                 0.0   \n",
       "3                                   0.0                                 0.0   \n",
       "4                                   0.0                                 0.0   \n",
       "\n",
       "   action_type__x0_Driving Bank shot  action_type__x0_Driving Dunk Shot  \\\n",
       "0                                0.0                                0.0   \n",
       "1                                0.0                                0.0   \n",
       "2                                0.0                                0.0   \n",
       "3                                0.0                                1.0   \n",
       "4                                0.0                                0.0   \n",
       "\n",
       "   action_type__x0_Driving Finger Roll Layup Shot  \\\n",
       "0                                             0.0   \n",
       "1                                             0.0   \n",
       "2                                             0.0   \n",
       "3                                             0.0   \n",
       "4                                             0.0   \n",
       "\n",
       "   action_type__x0_Driving Finger Roll Shot  \\\n",
       "0                                       0.0   \n",
       "1                                       0.0   \n",
       "2                                       0.0   \n",
       "3                                       0.0   \n",
       "4                                       0.0   \n",
       "\n",
       "   action_type__x0_Driving Floating Bank Jump Shot  \\\n",
       "0                                              0.0   \n",
       "1                                              0.0   \n",
       "2                                              0.0   \n",
       "3                                              0.0   \n",
       "4                                              0.0   \n",
       "\n",
       "   action_type__x0_Driving Floating Jump Shot  ...       lat     loc_x  \\\n",
       "0                                         0.0  ...  0.947305  0.186747   \n",
       "1                                         0.0  ...  0.785629  0.299197   \n",
       "2                                         0.0  ...  0.737725  0.779116   \n",
       "3                                         0.0  ...  0.947305  0.502008   \n",
       "4                                         0.0  ...  0.960479  0.210843   \n",
       "\n",
       "      loc_y       lon  minutes_remaining    period  playoffs  \\\n",
       "0  0.052695  0.186747           0.909091  0.000000       0.0   \n",
       "1  0.214371  0.299197           0.636364  0.000000       0.0   \n",
       "2  0.262275  0.779116           0.545455  0.000000       0.0   \n",
       "3  0.052695  0.502008           0.545455  0.166667       0.0   \n",
       "4  0.039521  0.210843           0.818182  0.333333       0.0   \n",
       "\n",
       "   seconds_remaining  shot_distance  shot_made_flag  \n",
       "0           0.372881       0.189873             0.0  \n",
       "1           0.762712       0.202532             1.0  \n",
       "2           0.881356       0.278481             0.0  \n",
       "3           0.322034       0.000000             1.0  \n",
       "4           0.542373       0.177215             0.0  \n",
       "\n",
       "[5 rows x 92 columns]"
      ]
     },
     "execution_count": 65,
     "metadata": {},
     "output_type": "execute_result"
    }
   ],
   "source": [
    "dataset.head()"
   ]
  },
  {
   "cell_type": "code",
   "execution_count": 66,
   "metadata": {},
   "outputs": [
    {
     "name": "stdout",
     "output_type": "stream",
     "text": [
      "(20557, 90) (5140, 90) (20557, 1) (5140, 1)\n"
     ]
    }
   ],
   "source": [
    "\"\"\"\n",
    "* Train_Test_Split is used to split dataset to Train and Test Data with 80:20 distribution.\n",
    "* Shuffle is used to shuffle whole dataset so that the Data should not be baised to a single class.\n",
    "* Separated X(Features) and Y(Class Labels) from Dataset Y == shot_made_flag\n",
    "* Train and Test Shapes ==>  X_train(20557, 90) | X_test(5140, 90) | y_train(20557, 1) | y_test(5140, 1)\n",
    "\"\"\"\n",
    "from sklearn.model_selection import train_test_split\n",
    "from sklearn.utils import shuffle\n",
    "\n",
    "dataset = shuffle(dataset)\n",
    "dataset = dataset.iloc[:,1:]\n",
    "X = dataset.loc[:, dataset.columns != 'shot_made_flag']\n",
    "Y = dataset.loc[:, dataset.columns == 'shot_made_flag']\n",
    "\n",
    "X_train, X_test, y_train, y_test = train_test_split(X, Y, test_size=0.20)\n",
    "print(X_train.shape, X_test.shape, y_train.shape, y_test.shape)"
   ]
  },
  {
   "cell_type": "code",
   "execution_count": 83,
   "metadata": {},
   "outputs": [
    {
     "name": "stdout",
     "output_type": "stream",
     "text": [
      "Train on 16445 samples, validate on 4112 samples\n",
      "Epoch 1/200\n",
      "16445/16445 [==============================] - 3s 186us/step - loss: 0.6706 - acc: 0.5970 - val_loss: 0.6340 - val_acc: 0.6491\n",
      "Epoch 2/200\n",
      "16445/16445 [==============================] - 1s 64us/step - loss: 0.6380 - acc: 0.6511 - val_loss: 0.6232 - val_acc: 0.6761\n",
      "Epoch 3/200\n",
      "16445/16445 [==============================] - 1s 65us/step - loss: 0.6246 - acc: 0.6701 - val_loss: 0.6189 - val_acc: 0.6780\n",
      "Epoch 4/200\n",
      "16445/16445 [==============================] - 1s 65us/step - loss: 0.6204 - acc: 0.6760 - val_loss: 0.6191 - val_acc: 0.6749\n",
      "Epoch 5/200\n",
      "16445/16445 [==============================] - 1s 65us/step - loss: 0.6193 - acc: 0.6784 - val_loss: 0.6192 - val_acc: 0.6773\n",
      "Epoch 6/200\n",
      "16445/16445 [==============================] - 1s 65us/step - loss: 0.6203 - acc: 0.6772 - val_loss: 0.6191 - val_acc: 0.6753\n",
      "Epoch 7/200\n",
      "16445/16445 [==============================] - 1s 64us/step - loss: 0.6165 - acc: 0.6761 - val_loss: 0.6187 - val_acc: 0.6749\n",
      "Epoch 8/200\n",
      "16445/16445 [==============================] - 1s 65us/step - loss: 0.6141 - acc: 0.6780 - val_loss: 0.6188 - val_acc: 0.6746\n",
      "Epoch 9/200\n",
      "16445/16445 [==============================] - 1s 62us/step - loss: 0.6150 - acc: 0.6798 - val_loss: 0.6194 - val_acc: 0.6753\n",
      "Epoch 10/200\n",
      "16445/16445 [==============================] - 1s 65us/step - loss: 0.6149 - acc: 0.6791 - val_loss: 0.6183 - val_acc: 0.6744\n",
      "Epoch 11/200\n",
      "16445/16445 [==============================] - 1s 64us/step - loss: 0.6116 - acc: 0.6797 - val_loss: 0.6195 - val_acc: 0.6744\n",
      "Epoch 12/200\n",
      "16445/16445 [==============================] - 1s 64us/step - loss: 0.6144 - acc: 0.6784 - val_loss: 0.6188 - val_acc: 0.6780\n",
      "Epoch 13/200\n",
      "16445/16445 [==============================] - 1s 66us/step - loss: 0.6143 - acc: 0.6787 - val_loss: 0.6185 - val_acc: 0.6766\n",
      "Epoch 14/200\n",
      "16445/16445 [==============================] - 1s 64us/step - loss: 0.6124 - acc: 0.6781 - val_loss: 0.6191 - val_acc: 0.6695\n",
      "Epoch 15/200\n",
      "16445/16445 [==============================] - 1s 64us/step - loss: 0.6126 - acc: 0.6791 - val_loss: 0.6190 - val_acc: 0.6734\n",
      "Epoch 16/200\n",
      "16445/16445 [==============================] - 1s 64us/step - loss: 0.6122 - acc: 0.6795 - val_loss: 0.6218 - val_acc: 0.6775\n",
      "Epoch 17/200\n",
      "16445/16445 [==============================] - 1s 64us/step - loss: 0.6117 - acc: 0.6800 - val_loss: 0.6189 - val_acc: 0.6756\n",
      "Epoch 18/200\n",
      "16445/16445 [==============================] - 1s 64us/step - loss: 0.6124 - acc: 0.6786 - val_loss: 0.6194 - val_acc: 0.6729\n",
      "Epoch 19/200\n",
      "16445/16445 [==============================] - 1s 64us/step - loss: 0.6112 - acc: 0.6808 - val_loss: 0.6205 - val_acc: 0.6744\n",
      "Epoch 20/200\n",
      "16445/16445 [==============================] - 1s 64us/step - loss: 0.6118 - acc: 0.6816 - val_loss: 0.6201 - val_acc: 0.6766\n",
      "Epoch 21/200\n",
      "16445/16445 [==============================] - 1s 64us/step - loss: 0.6127 - acc: 0.6795 - val_loss: 0.6203 - val_acc: 0.6749\n",
      "Epoch 22/200\n",
      "16445/16445 [==============================] - 1s 65us/step - loss: 0.6107 - acc: 0.6794 - val_loss: 0.6191 - val_acc: 0.6751\n",
      "Epoch 23/200\n",
      "16445/16445 [==============================] - 1s 64us/step - loss: 0.6105 - acc: 0.6818 - val_loss: 0.6204 - val_acc: 0.6761\n",
      "Epoch 24/200\n",
      "16445/16445 [==============================] - 1s 63us/step - loss: 0.6101 - acc: 0.6811 - val_loss: 0.6195 - val_acc: 0.6739\n",
      "Epoch 25/200\n",
      "16445/16445 [==============================] - 1s 64us/step - loss: 0.6110 - acc: 0.6806 - val_loss: 0.6205 - val_acc: 0.6751\n",
      "Epoch 26/200\n",
      "16445/16445 [==============================] - 1s 64us/step - loss: 0.6106 - acc: 0.6818 - val_loss: 0.6198 - val_acc: 0.6744\n",
      "Epoch 27/200\n",
      "16445/16445 [==============================] - 1s 64us/step - loss: 0.6108 - acc: 0.6808 - val_loss: 0.6199 - val_acc: 0.6751\n",
      "Epoch 28/200\n",
      "16445/16445 [==============================] - 1s 64us/step - loss: 0.6098 - acc: 0.6803 - val_loss: 0.6198 - val_acc: 0.6749\n",
      "Epoch 29/200\n",
      "16445/16445 [==============================] - 1s 65us/step - loss: 0.6096 - acc: 0.6820 - val_loss: 0.6199 - val_acc: 0.6732\n",
      "Epoch 30/200\n",
      "16445/16445 [==============================] - 1s 64us/step - loss: 0.6100 - acc: 0.6813 - val_loss: 0.6198 - val_acc: 0.6729\n",
      "Epoch 31/200\n",
      "16445/16445 [==============================] - 1s 65us/step - loss: 0.6095 - acc: 0.6804 - val_loss: 0.6197 - val_acc: 0.6761\n",
      "Epoch 32/200\n",
      "16445/16445 [==============================] - 1s 64us/step - loss: 0.6115 - acc: 0.6823 - val_loss: 0.6189 - val_acc: 0.6763\n",
      "Epoch 33/200\n",
      "16445/16445 [==============================] - 1s 64us/step - loss: 0.6093 - acc: 0.6812 - val_loss: 0.6192 - val_acc: 0.6736\n",
      "Epoch 34/200\n",
      "16445/16445 [==============================] - 1s 63us/step - loss: 0.6102 - acc: 0.6815 - val_loss: 0.6194 - val_acc: 0.6753\n",
      "Epoch 35/200\n",
      "16445/16445 [==============================] - 1s 64us/step - loss: 0.6097 - acc: 0.6804 - val_loss: 0.6212 - val_acc: 0.6761\n",
      "Epoch 36/200\n",
      "16445/16445 [==============================] - 1s 65us/step - loss: 0.6083 - acc: 0.6813 - val_loss: 0.6205 - val_acc: 0.6746\n",
      "Epoch 37/200\n",
      "16445/16445 [==============================] - 1s 64us/step - loss: 0.6095 - acc: 0.6811 - val_loss: 0.6200 - val_acc: 0.6739\n",
      "Epoch 38/200\n",
      "16445/16445 [==============================] - 1s 64us/step - loss: 0.6102 - acc: 0.6814 - val_loss: 0.6200 - val_acc: 0.6758\n",
      "Epoch 39/200\n",
      "16445/16445 [==============================] - 1s 63us/step - loss: 0.6082 - acc: 0.6809 - val_loss: 0.6203 - val_acc: 0.6744\n",
      "Epoch 40/200\n",
      "16445/16445 [==============================] - 1s 62us/step - loss: 0.6089 - acc: 0.6823 - val_loss: 0.6194 - val_acc: 0.6751\n",
      "Epoch 41/200\n",
      "16445/16445 [==============================] - 1s 63us/step - loss: 0.6089 - acc: 0.6829 - val_loss: 0.6224 - val_acc: 0.6761\n",
      "Epoch 42/200\n",
      "16445/16445 [==============================] - 1s 65us/step - loss: 0.6090 - acc: 0.6812 - val_loss: 0.6199 - val_acc: 0.6734\n",
      "Epoch 43/200\n",
      "16445/16445 [==============================] - 1s 63us/step - loss: 0.6083 - acc: 0.6828 - val_loss: 0.6209 - val_acc: 0.6761\n",
      "Epoch 44/200\n",
      "16445/16445 [==============================] - 1s 64us/step - loss: 0.6090 - acc: 0.6815 - val_loss: 0.6196 - val_acc: 0.6768\n",
      "Epoch 45/200\n",
      "16445/16445 [==============================] - 1s 64us/step - loss: 0.6090 - acc: 0.6822 - val_loss: 0.6200 - val_acc: 0.6761\n",
      "Epoch 46/200\n",
      "16445/16445 [==============================] - 1s 64us/step - loss: 0.6071 - acc: 0.6829 - val_loss: 0.6206 - val_acc: 0.6756\n",
      "Epoch 47/200\n",
      "16445/16445 [==============================] - 1s 64us/step - loss: 0.6081 - acc: 0.6818 - val_loss: 0.6215 - val_acc: 0.6756\n",
      "Epoch 48/200\n",
      "16445/16445 [==============================] - 1s 65us/step - loss: 0.6084 - acc: 0.6818 - val_loss: 0.6197 - val_acc: 0.6761\n",
      "Epoch 49/200\n",
      "16445/16445 [==============================] - 1s 63us/step - loss: 0.6075 - acc: 0.6815 - val_loss: 0.6197 - val_acc: 0.6736\n",
      "Epoch 50/200\n",
      "16445/16445 [==============================] - 1s 63us/step - loss: 0.6085 - acc: 0.6812 - val_loss: 0.6200 - val_acc: 0.6753\n",
      "Epoch 51/200\n",
      "16445/16445 [==============================] - 1s 63us/step - loss: 0.6082 - acc: 0.6822 - val_loss: 0.6212 - val_acc: 0.6749\n",
      "Epoch 52/200\n",
      "16445/16445 [==============================] - 1s 65us/step - loss: 0.6086 - acc: 0.6806 - val_loss: 0.6211 - val_acc: 0.6763\n",
      "Epoch 53/200\n",
      "16445/16445 [==============================] - 1s 64us/step - loss: 0.6066 - acc: 0.6828 - val_loss: 0.6213 - val_acc: 0.6744\n",
      "Epoch 54/200\n",
      "16445/16445 [==============================] - 1s 65us/step - loss: 0.6079 - acc: 0.6812 - val_loss: 0.6204 - val_acc: 0.6749\n",
      "Epoch 55/200\n",
      "16445/16445 [==============================] - 1s 62us/step - loss: 0.6085 - acc: 0.6822 - val_loss: 0.6195 - val_acc: 0.6741\n",
      "Epoch 56/200\n",
      "16445/16445 [==============================] - 1s 63us/step - loss: 0.6078 - acc: 0.6819 - val_loss: 0.6205 - val_acc: 0.6758\n",
      "Epoch 57/200\n",
      "16445/16445 [==============================] - 1s 62us/step - loss: 0.6069 - acc: 0.6827 - val_loss: 0.6207 - val_acc: 0.6749\n",
      "Epoch 58/200\n",
      "16445/16445 [==============================] - 1s 62us/step - loss: 0.6077 - acc: 0.6824 - val_loss: 0.6205 - val_acc: 0.6751\n",
      "Epoch 59/200\n",
      "16445/16445 [==============================] - 1s 61us/step - loss: 0.6075 - acc: 0.6826 - val_loss: 0.6211 - val_acc: 0.6751\n",
      "Epoch 60/200\n",
      "16445/16445 [==============================] - 1s 62us/step - loss: 0.6073 - acc: 0.6821 - val_loss: 0.6198 - val_acc: 0.6749\n",
      "Epoch 61/200\n",
      "16445/16445 [==============================] - 1s 63us/step - loss: 0.6079 - acc: 0.6822 - val_loss: 0.6196 - val_acc: 0.6756\n",
      "Epoch 62/200\n",
      "16445/16445 [==============================] - 1s 65us/step - loss: 0.6073 - acc: 0.6812 - val_loss: 0.6208 - val_acc: 0.6746\n",
      "Epoch 63/200\n",
      "16445/16445 [==============================] - 1s 65us/step - loss: 0.6077 - acc: 0.6811 - val_loss: 0.6204 - val_acc: 0.6746\n",
      "Epoch 64/200\n",
      "16445/16445 [==============================] - 1s 65us/step - loss: 0.6079 - acc: 0.6811 - val_loss: 0.6201 - val_acc: 0.6739\n",
      "Epoch 65/200\n",
      "16445/16445 [==============================] - 1s 64us/step - loss: 0.6077 - acc: 0.6822 - val_loss: 0.6198 - val_acc: 0.6741\n",
      "Epoch 66/200\n",
      "16445/16445 [==============================] - 1s 64us/step - loss: 0.6081 - acc: 0.6825 - val_loss: 0.6206 - val_acc: 0.6756\n",
      "Epoch 67/200\n",
      "16445/16445 [==============================] - 1s 64us/step - loss: 0.6084 - acc: 0.6814 - val_loss: 0.6198 - val_acc: 0.6758\n",
      "Epoch 68/200\n",
      "16445/16445 [==============================] - 1s 64us/step - loss: 0.6073 - acc: 0.6828 - val_loss: 0.6210 - val_acc: 0.6722\n",
      "Epoch 69/200\n",
      "16445/16445 [==============================] - 1s 64us/step - loss: 0.6083 - acc: 0.6819 - val_loss: 0.6196 - val_acc: 0.6732\n",
      "Epoch 70/200\n",
      "16445/16445 [==============================] - 1s 64us/step - loss: 0.6058 - acc: 0.6842 - val_loss: 0.6198 - val_acc: 0.6746\n",
      "Epoch 71/200\n",
      "16445/16445 [==============================] - 1s 65us/step - loss: 0.6086 - acc: 0.6822 - val_loss: 0.6216 - val_acc: 0.6758\n",
      "Epoch 72/200\n",
      "16445/16445 [==============================] - 1s 63us/step - loss: 0.6078 - acc: 0.6810 - val_loss: 0.6196 - val_acc: 0.6741\n",
      "Epoch 73/200\n",
      "16445/16445 [==============================] - 1s 64us/step - loss: 0.6074 - acc: 0.6804 - val_loss: 0.6218 - val_acc: 0.6749\n",
      "Epoch 74/200\n",
      "16445/16445 [==============================] - 1s 65us/step - loss: 0.6071 - acc: 0.6834 - val_loss: 0.6203 - val_acc: 0.6729\n",
      "Epoch 75/200\n",
      "16445/16445 [==============================] - 1s 65us/step - loss: 0.6065 - acc: 0.6823 - val_loss: 0.6223 - val_acc: 0.6746\n",
      "Epoch 76/200\n",
      "16445/16445 [==============================] - 1s 64us/step - loss: 0.6071 - acc: 0.6828 - val_loss: 0.6215 - val_acc: 0.6732\n",
      "Epoch 77/200\n",
      "16445/16445 [==============================] - 1s 64us/step - loss: 0.6079 - acc: 0.6836 - val_loss: 0.6200 - val_acc: 0.6744\n",
      "Epoch 78/200\n",
      "16445/16445 [==============================] - 1s 64us/step - loss: 0.6061 - acc: 0.6837 - val_loss: 0.6208 - val_acc: 0.6744\n",
      "Epoch 79/200\n",
      "16445/16445 [==============================] - 1s 65us/step - loss: 0.6064 - acc: 0.6831 - val_loss: 0.6206 - val_acc: 0.6746\n",
      "Epoch 80/200\n",
      "16445/16445 [==============================] - 1s 64us/step - loss: 0.6064 - acc: 0.6829 - val_loss: 0.6209 - val_acc: 0.6739\n",
      "Epoch 81/200\n",
      "16445/16445 [==============================] - 1s 65us/step - loss: 0.6068 - acc: 0.6827 - val_loss: 0.6218 - val_acc: 0.6746\n",
      "Epoch 82/200\n",
      "16445/16445 [==============================] - 1s 65us/step - loss: 0.6069 - acc: 0.6823 - val_loss: 0.6211 - val_acc: 0.6719\n",
      "Epoch 83/200\n",
      "16445/16445 [==============================] - 1s 65us/step - loss: 0.6077 - acc: 0.6835 - val_loss: 0.6203 - val_acc: 0.6739\n",
      "Epoch 84/200\n",
      "16445/16445 [==============================] - 1s 64us/step - loss: 0.6064 - acc: 0.6818 - val_loss: 0.6205 - val_acc: 0.6751\n",
      "Epoch 85/200\n",
      "16445/16445 [==============================] - 1s 64us/step - loss: 0.6060 - acc: 0.6817 - val_loss: 0.6205 - val_acc: 0.6758\n",
      "Epoch 86/200\n",
      "16445/16445 [==============================] - 1s 65us/step - loss: 0.6060 - acc: 0.6825 - val_loss: 0.6206 - val_acc: 0.6712\n",
      "Epoch 87/200\n",
      "16445/16445 [==============================] - 1s 64us/step - loss: 0.6067 - acc: 0.6825 - val_loss: 0.6207 - val_acc: 0.6766\n",
      "Epoch 88/200\n",
      "16445/16445 [==============================] - 1s 64us/step - loss: 0.6064 - acc: 0.6839 - val_loss: 0.6212 - val_acc: 0.6751\n",
      "Epoch 89/200\n",
      "16445/16445 [==============================] - 1s 63us/step - loss: 0.6071 - acc: 0.6832 - val_loss: 0.6224 - val_acc: 0.6732\n",
      "Epoch 90/200\n",
      "16445/16445 [==============================] - 1s 65us/step - loss: 0.6067 - acc: 0.6818 - val_loss: 0.6217 - val_acc: 0.6749\n",
      "Epoch 91/200\n",
      "16445/16445 [==============================] - 1s 65us/step - loss: 0.6075 - acc: 0.6814 - val_loss: 0.6212 - val_acc: 0.6753\n",
      "Epoch 92/200\n",
      "16445/16445 [==============================] - 1s 65us/step - loss: 0.6062 - acc: 0.6828 - val_loss: 0.6214 - val_acc: 0.6751\n",
      "Epoch 93/200\n",
      "16445/16445 [==============================] - 1s 64us/step - loss: 0.6073 - acc: 0.6832 - val_loss: 0.6221 - val_acc: 0.6763\n",
      "Epoch 94/200\n",
      "16445/16445 [==============================] - 1s 65us/step - loss: 0.6057 - acc: 0.6822 - val_loss: 0.6221 - val_acc: 0.6751\n",
      "Epoch 95/200\n",
      "16445/16445 [==============================] - 1s 65us/step - loss: 0.6059 - acc: 0.6840 - val_loss: 0.6207 - val_acc: 0.6751\n",
      "Epoch 96/200\n",
      "16445/16445 [==============================] - 1s 64us/step - loss: 0.6062 - acc: 0.6827 - val_loss: 0.6221 - val_acc: 0.6751\n",
      "Epoch 97/200\n",
      "16445/16445 [==============================] - 1s 63us/step - loss: 0.6062 - acc: 0.6839 - val_loss: 0.6208 - val_acc: 0.6761\n",
      "Epoch 98/200\n",
      "16445/16445 [==============================] - 1s 61us/step - loss: 0.6065 - acc: 0.6826 - val_loss: 0.6213 - val_acc: 0.6744\n",
      "Epoch 99/200\n",
      "16445/16445 [==============================] - 1s 64us/step - loss: 0.6073 - acc: 0.6826 - val_loss: 0.6219 - val_acc: 0.6749\n",
      "Epoch 100/200\n",
      "16445/16445 [==============================] - 1s 64us/step - loss: 0.6054 - acc: 0.6837 - val_loss: 0.6208 - val_acc: 0.6746\n",
      "Epoch 101/200\n",
      "16445/16445 [==============================] - 1s 64us/step - loss: 0.6047 - acc: 0.6841 - val_loss: 0.6225 - val_acc: 0.6751\n",
      "Epoch 102/200\n",
      "16445/16445 [==============================] - 1s 63us/step - loss: 0.6068 - acc: 0.6828 - val_loss: 0.6222 - val_acc: 0.6729\n",
      "Epoch 103/200\n",
      "16445/16445 [==============================] - 1s 63us/step - loss: 0.6052 - acc: 0.6832 - val_loss: 0.6227 - val_acc: 0.6753\n",
      "Epoch 104/200\n",
      "16445/16445 [==============================] - 1s 62us/step - loss: 0.6059 - acc: 0.6829 - val_loss: 0.6221 - val_acc: 0.6732\n",
      "Epoch 105/200\n",
      "16445/16445 [==============================] - 1s 64us/step - loss: 0.6065 - acc: 0.6827 - val_loss: 0.6209 - val_acc: 0.6722\n",
      "Epoch 106/200\n",
      "16445/16445 [==============================] - 1s 63us/step - loss: 0.6066 - acc: 0.6829 - val_loss: 0.6231 - val_acc: 0.6744\n",
      "Epoch 107/200\n",
      "16445/16445 [==============================] - 1s 63us/step - loss: 0.6052 - acc: 0.6825 - val_loss: 0.6217 - val_acc: 0.6746\n",
      "Epoch 108/200\n",
      "16445/16445 [==============================] - 1s 62us/step - loss: 0.6049 - acc: 0.6832 - val_loss: 0.6220 - val_acc: 0.6741\n",
      "Epoch 109/200\n",
      "16445/16445 [==============================] - 1s 63us/step - loss: 0.6057 - acc: 0.6827 - val_loss: 0.6220 - val_acc: 0.6729\n",
      "Epoch 110/200\n",
      "16445/16445 [==============================] - 1s 63us/step - loss: 0.6063 - acc: 0.6823 - val_loss: 0.6222 - val_acc: 0.6741\n",
      "Epoch 111/200\n",
      "16445/16445 [==============================] - 1s 64us/step - loss: 0.6061 - acc: 0.6829 - val_loss: 0.6212 - val_acc: 0.6746\n",
      "Epoch 112/200\n",
      "16445/16445 [==============================] - 1s 64us/step - loss: 0.6051 - acc: 0.6836 - val_loss: 0.6224 - val_acc: 0.6744\n",
      "Epoch 113/200\n",
      "16445/16445 [==============================] - 1s 64us/step - loss: 0.6056 - acc: 0.6835 - val_loss: 0.6216 - val_acc: 0.6734\n",
      "Epoch 114/200\n",
      "16445/16445 [==============================] - 1s 64us/step - loss: 0.6060 - acc: 0.6822 - val_loss: 0.6199 - val_acc: 0.6739\n",
      "Epoch 115/200\n",
      "16445/16445 [==============================] - 1s 65us/step - loss: 0.6056 - acc: 0.6834 - val_loss: 0.6220 - val_acc: 0.6739\n",
      "Epoch 116/200\n",
      "16445/16445 [==============================] - 1s 64us/step - loss: 0.6055 - acc: 0.6836 - val_loss: 0.6238 - val_acc: 0.6758\n",
      "Epoch 117/200\n",
      "16445/16445 [==============================] - 1s 64us/step - loss: 0.6060 - acc: 0.6838 - val_loss: 0.6221 - val_acc: 0.6736\n"
     ]
    },
    {
     "name": "stdout",
     "output_type": "stream",
     "text": [
      "Epoch 118/200\n",
      "16445/16445 [==============================] - 1s 63us/step - loss: 0.6060 - acc: 0.6828 - val_loss: 0.6211 - val_acc: 0.6732\n",
      "Epoch 119/200\n",
      "16445/16445 [==============================] - 1s 64us/step - loss: 0.6045 - acc: 0.6836 - val_loss: 0.6222 - val_acc: 0.6734\n",
      "Epoch 120/200\n",
      "16445/16445 [==============================] - 1s 64us/step - loss: 0.6063 - acc: 0.6831 - val_loss: 0.6222 - val_acc: 0.6707\n",
      "Epoch 121/200\n",
      "16445/16445 [==============================] - 1s 64us/step - loss: 0.6046 - acc: 0.6858 - val_loss: 0.6214 - val_acc: 0.6766\n",
      "Epoch 122/200\n",
      "16445/16445 [==============================] - 1s 64us/step - loss: 0.6053 - acc: 0.6831 - val_loss: 0.6218 - val_acc: 0.6732\n",
      "Epoch 123/200\n",
      "16445/16445 [==============================] - 1s 64us/step - loss: 0.6058 - acc: 0.6828 - val_loss: 0.6217 - val_acc: 0.6717\n",
      "Epoch 124/200\n",
      "16445/16445 [==============================] - 1s 64us/step - loss: 0.6054 - acc: 0.6825 - val_loss: 0.6223 - val_acc: 0.6724\n",
      "Epoch 125/200\n",
      "16445/16445 [==============================] - 1s 64us/step - loss: 0.6045 - acc: 0.6853 - val_loss: 0.6218 - val_acc: 0.6719\n",
      "Epoch 126/200\n",
      "16445/16445 [==============================] - 1s 63us/step - loss: 0.6051 - acc: 0.6826 - val_loss: 0.6217 - val_acc: 0.6736\n",
      "Epoch 127/200\n",
      "16445/16445 [==============================] - 1s 64us/step - loss: 0.6055 - acc: 0.6834 - val_loss: 0.6227 - val_acc: 0.6729\n",
      "Epoch 128/200\n",
      "16445/16445 [==============================] - 1s 64us/step - loss: 0.6052 - acc: 0.6848 - val_loss: 0.6214 - val_acc: 0.6763\n",
      "Epoch 129/200\n",
      "16445/16445 [==============================] - 1s 63us/step - loss: 0.6054 - acc: 0.6832 - val_loss: 0.6216 - val_acc: 0.6746\n",
      "Epoch 130/200\n",
      "16445/16445 [==============================] - 1s 64us/step - loss: 0.6060 - acc: 0.6828 - val_loss: 0.6215 - val_acc: 0.6727\n",
      "Epoch 131/200\n",
      "16445/16445 [==============================] - 1s 64us/step - loss: 0.6047 - acc: 0.6833 - val_loss: 0.6221 - val_acc: 0.6739\n",
      "Epoch 132/200\n",
      "16445/16445 [==============================] - 1s 64us/step - loss: 0.6053 - acc: 0.6833 - val_loss: 0.6213 - val_acc: 0.6729\n",
      "Epoch 133/200\n",
      "16445/16445 [==============================] - 1s 64us/step - loss: 0.6050 - acc: 0.6846 - val_loss: 0.6213 - val_acc: 0.6719\n",
      "Epoch 134/200\n",
      "16445/16445 [==============================] - 1s 65us/step - loss: 0.6059 - acc: 0.6830 - val_loss: 0.6219 - val_acc: 0.6736\n",
      "Epoch 135/200\n",
      "16445/16445 [==============================] - 1s 64us/step - loss: 0.6054 - acc: 0.6837 - val_loss: 0.6222 - val_acc: 0.6744\n",
      "Epoch 136/200\n",
      "16445/16445 [==============================] - 1s 64us/step - loss: 0.6043 - acc: 0.6835 - val_loss: 0.6210 - val_acc: 0.6707\n",
      "Epoch 137/200\n",
      "16445/16445 [==============================] - 1s 63us/step - loss: 0.6043 - acc: 0.6829 - val_loss: 0.6226 - val_acc: 0.6714\n",
      "Epoch 138/200\n",
      "16445/16445 [==============================] - 1s 64us/step - loss: 0.6056 - acc: 0.6826 - val_loss: 0.6223 - val_acc: 0.6727\n",
      "Epoch 139/200\n",
      "16445/16445 [==============================] - 1s 63us/step - loss: 0.6049 - acc: 0.6831 - val_loss: 0.6214 - val_acc: 0.6724\n",
      "Epoch 140/200\n",
      "16445/16445 [==============================] - 1s 65us/step - loss: 0.6057 - acc: 0.6839 - val_loss: 0.6210 - val_acc: 0.6739\n",
      "Epoch 141/200\n",
      "16445/16445 [==============================] - 1s 63us/step - loss: 0.6064 - acc: 0.6827 - val_loss: 0.6204 - val_acc: 0.6739\n",
      "Epoch 142/200\n",
      "16445/16445 [==============================] - 1s 65us/step - loss: 0.6048 - acc: 0.6843 - val_loss: 0.6212 - val_acc: 0.6739\n",
      "Epoch 143/200\n",
      "16445/16445 [==============================] - 1s 64us/step - loss: 0.6049 - acc: 0.6842 - val_loss: 0.6210 - val_acc: 0.6753\n",
      "Epoch 144/200\n",
      "16445/16445 [==============================] - 1s 64us/step - loss: 0.6042 - acc: 0.6828 - val_loss: 0.6216 - val_acc: 0.6761\n",
      "Epoch 145/200\n",
      "16445/16445 [==============================] - 1s 64us/step - loss: 0.6051 - acc: 0.6836 - val_loss: 0.6212 - val_acc: 0.6739\n",
      "Epoch 146/200\n",
      "16445/16445 [==============================] - 1s 63us/step - loss: 0.6053 - acc: 0.6839 - val_loss: 0.6223 - val_acc: 0.6688\n",
      "Epoch 147/200\n",
      "16445/16445 [==============================] - 1s 64us/step - loss: 0.6050 - acc: 0.6838 - val_loss: 0.6218 - val_acc: 0.6724\n",
      "Epoch 148/200\n",
      "16445/16445 [==============================] - 1s 63us/step - loss: 0.6041 - acc: 0.6846 - val_loss: 0.6230 - val_acc: 0.6749\n",
      "Epoch 149/200\n",
      "16445/16445 [==============================] - 1s 64us/step - loss: 0.6048 - acc: 0.6838 - val_loss: 0.6220 - val_acc: 0.6741\n",
      "Epoch 150/200\n",
      "16445/16445 [==============================] - 1s 64us/step - loss: 0.6054 - acc: 0.6834 - val_loss: 0.6200 - val_acc: 0.6749\n",
      "Epoch 151/200\n",
      "16445/16445 [==============================] - 1s 65us/step - loss: 0.6047 - acc: 0.6845 - val_loss: 0.6203 - val_acc: 0.6736\n",
      "Epoch 152/200\n",
      "16445/16445 [==============================] - 1s 64us/step - loss: 0.6044 - acc: 0.6836 - val_loss: 0.6217 - val_acc: 0.6753\n",
      "Epoch 153/200\n",
      "16445/16445 [==============================] - 1s 64us/step - loss: 0.6037 - acc: 0.6846 - val_loss: 0.6220 - val_acc: 0.6749\n",
      "Epoch 154/200\n",
      "16445/16445 [==============================] - 1s 64us/step - loss: 0.6036 - acc: 0.6854 - val_loss: 0.6214 - val_acc: 0.6729\n",
      "Epoch 155/200\n",
      "16445/16445 [==============================] - 1s 62us/step - loss: 0.6050 - acc: 0.6828 - val_loss: 0.6229 - val_acc: 0.6741\n",
      "Epoch 156/200\n",
      "16445/16445 [==============================] - 1s 64us/step - loss: 0.6039 - acc: 0.6839 - val_loss: 0.6221 - val_acc: 0.6734\n",
      "Epoch 157/200\n",
      "16445/16445 [==============================] - 1s 64us/step - loss: 0.6045 - acc: 0.6831 - val_loss: 0.6232 - val_acc: 0.6736\n",
      "Epoch 158/200\n",
      "16445/16445 [==============================] - 1s 63us/step - loss: 0.6048 - acc: 0.6832 - val_loss: 0.6227 - val_acc: 0.6732\n",
      "Epoch 159/200\n",
      "16445/16445 [==============================] - 1s 64us/step - loss: 0.6042 - acc: 0.6834 - val_loss: 0.6237 - val_acc: 0.6744\n",
      "Epoch 160/200\n",
      "16445/16445 [==============================] - 1s 63us/step - loss: 0.6044 - acc: 0.6846 - val_loss: 0.6216 - val_acc: 0.6722\n",
      "Epoch 161/200\n",
      "16445/16445 [==============================] - 1s 64us/step - loss: 0.6044 - acc: 0.6854 - val_loss: 0.6224 - val_acc: 0.6724\n",
      "Epoch 162/200\n",
      "16445/16445 [==============================] - 1s 63us/step - loss: 0.6047 - acc: 0.6835 - val_loss: 0.6228 - val_acc: 0.6722\n",
      "Epoch 163/200\n",
      "16445/16445 [==============================] - 1s 64us/step - loss: 0.6050 - acc: 0.6841 - val_loss: 0.6231 - val_acc: 0.6724\n",
      "Epoch 164/200\n",
      "16445/16445 [==============================] - 1s 63us/step - loss: 0.6045 - acc: 0.6831 - val_loss: 0.6219 - val_acc: 0.6712\n",
      "Epoch 165/200\n",
      "16445/16445 [==============================] - 1s 64us/step - loss: 0.6045 - acc: 0.6836 - val_loss: 0.6216 - val_acc: 0.6729\n",
      "Epoch 166/200\n",
      "16445/16445 [==============================] - 1s 63us/step - loss: 0.6039 - acc: 0.6846 - val_loss: 0.6226 - val_acc: 0.6732\n",
      "Epoch 167/200\n",
      "16445/16445 [==============================] - 1s 64us/step - loss: 0.6034 - acc: 0.6839 - val_loss: 0.6234 - val_acc: 0.6744\n",
      "Epoch 168/200\n",
      "16445/16445 [==============================] - 1s 64us/step - loss: 0.6049 - acc: 0.6833 - val_loss: 0.6226 - val_acc: 0.6732\n",
      "Epoch 169/200\n",
      "16445/16445 [==============================] - 1s 63us/step - loss: 0.6044 - acc: 0.6833 - val_loss: 0.6223 - val_acc: 0.6729\n",
      "Epoch 170/200\n",
      "16445/16445 [==============================] - 1s 64us/step - loss: 0.6042 - acc: 0.6832 - val_loss: 0.6225 - val_acc: 0.6707\n",
      "Epoch 171/200\n",
      "16445/16445 [==============================] - 1s 64us/step - loss: 0.6036 - acc: 0.6836 - val_loss: 0.6232 - val_acc: 0.6734\n",
      "Epoch 172/200\n",
      "16445/16445 [==============================] - 1s 65us/step - loss: 0.6051 - acc: 0.6829 - val_loss: 0.6229 - val_acc: 0.6727\n",
      "Epoch 173/200\n",
      "16445/16445 [==============================] - 1s 61us/step - loss: 0.6036 - acc: 0.6843 - val_loss: 0.6231 - val_acc: 0.6734\n",
      "Epoch 174/200\n",
      "16445/16445 [==============================] - 1s 63us/step - loss: 0.6035 - acc: 0.6838 - val_loss: 0.6244 - val_acc: 0.6722\n",
      "Epoch 175/200\n",
      "16445/16445 [==============================] - 1s 62us/step - loss: 0.6048 - acc: 0.6826 - val_loss: 0.6216 - val_acc: 0.6727\n",
      "Epoch 176/200\n",
      "16445/16445 [==============================] - 1s 64us/step - loss: 0.6037 - acc: 0.6849 - val_loss: 0.6213 - val_acc: 0.6749\n",
      "Epoch 177/200\n",
      "16445/16445 [==============================] - 1s 63us/step - loss: 0.6039 - acc: 0.6843 - val_loss: 0.6212 - val_acc: 0.6736\n",
      "Epoch 178/200\n",
      "16445/16445 [==============================] - 1s 64us/step - loss: 0.6043 - acc: 0.6841 - val_loss: 0.6213 - val_acc: 0.6719\n",
      "Epoch 179/200\n",
      "16445/16445 [==============================] - 1s 63us/step - loss: 0.6051 - acc: 0.6826 - val_loss: 0.6223 - val_acc: 0.6722\n",
      "Epoch 180/200\n",
      "16445/16445 [==============================] - 1s 64us/step - loss: 0.6041 - acc: 0.6840 - val_loss: 0.6227 - val_acc: 0.6712\n",
      "Epoch 181/200\n",
      "16445/16445 [==============================] - 1s 63us/step - loss: 0.6041 - acc: 0.6831 - val_loss: 0.6223 - val_acc: 0.6717\n",
      "Epoch 182/200\n",
      "16445/16445 [==============================] - 1s 64us/step - loss: 0.6040 - acc: 0.6829 - val_loss: 0.6230 - val_acc: 0.6741\n",
      "Epoch 183/200\n",
      "16445/16445 [==============================] - 1s 63us/step - loss: 0.6041 - acc: 0.6854 - val_loss: 0.6215 - val_acc: 0.6724\n",
      "Epoch 184/200\n",
      "16445/16445 [==============================] - 1s 64us/step - loss: 0.6041 - acc: 0.6826 - val_loss: 0.6220 - val_acc: 0.6741\n",
      "Epoch 185/200\n",
      "16445/16445 [==============================] - 1s 64us/step - loss: 0.6038 - acc: 0.6841 - val_loss: 0.6215 - val_acc: 0.6739\n",
      "Epoch 186/200\n",
      "16445/16445 [==============================] - 1s 65us/step - loss: 0.6036 - acc: 0.6841 - val_loss: 0.6227 - val_acc: 0.6741\n",
      "Epoch 187/200\n",
      "16445/16445 [==============================] - 1s 64us/step - loss: 0.6036 - acc: 0.6843 - val_loss: 0.6228 - val_acc: 0.6736\n",
      "Epoch 188/200\n",
      "16445/16445 [==============================] - 1s 63us/step - loss: 0.6028 - acc: 0.6843 - val_loss: 0.6220 - val_acc: 0.6722\n",
      "Epoch 189/200\n",
      "16445/16445 [==============================] - 1s 64us/step - loss: 0.6046 - acc: 0.6826 - val_loss: 0.6231 - val_acc: 0.6722\n",
      "Epoch 190/200\n",
      "16445/16445 [==============================] - 1s 64us/step - loss: 0.6040 - acc: 0.6840 - val_loss: 0.6232 - val_acc: 0.6705\n",
      "Epoch 191/200\n",
      "16445/16445 [==============================] - 1s 65us/step - loss: 0.6042 - acc: 0.6849 - val_loss: 0.6215 - val_acc: 0.6724\n",
      "Epoch 192/200\n",
      "16445/16445 [==============================] - 1s 65us/step - loss: 0.6038 - acc: 0.6839 - val_loss: 0.6223 - val_acc: 0.6744\n",
      "Epoch 193/200\n",
      "16445/16445 [==============================] - 1s 66us/step - loss: 0.6041 - acc: 0.6842 - val_loss: 0.6231 - val_acc: 0.6739\n",
      "Epoch 194/200\n",
      "16445/16445 [==============================] - 1s 63us/step - loss: 0.6039 - acc: 0.6848 - val_loss: 0.6230 - val_acc: 0.6734\n",
      "Epoch 195/200\n",
      "16445/16445 [==============================] - 1s 64us/step - loss: 0.6029 - acc: 0.6845 - val_loss: 0.6227 - val_acc: 0.6746\n",
      "Epoch 196/200\n",
      "16445/16445 [==============================] - 1s 64us/step - loss: 0.6029 - acc: 0.6853 - val_loss: 0.6233 - val_acc: 0.6729\n",
      "Epoch 197/200\n",
      "16445/16445 [==============================] - 1s 64us/step - loss: 0.6039 - acc: 0.6842 - val_loss: 0.6230 - val_acc: 0.6734\n",
      "Epoch 198/200\n",
      "16445/16445 [==============================] - 1s 64us/step - loss: 0.6053 - acc: 0.6829 - val_loss: 0.6224 - val_acc: 0.6736\n",
      "Epoch 199/200\n",
      "16445/16445 [==============================] - 1s 65us/step - loss: 0.6031 - acc: 0.6829 - val_loss: 0.6224 - val_acc: 0.6710\n",
      "Epoch 200/200\n",
      "16445/16445 [==============================] - 1s 64us/step - loss: 0.6026 - acc: 0.6840 - val_loss: 0.6234 - val_acc: 0.6727\n"
     ]
    }
   ],
   "source": [
    "\"\"\"\n",
    "Library we used for Machine Learning algoritham is KERAS, Keras is one of the most used library in ML\n",
    "and DL, which act as an interface for TENSORFLOW library.\n",
    "\n",
    "* Model we have used is Sequential, which is actually a Linear stack of Layers. Which is best option for\n",
    "implementing MLP (Multi Layer Precesion)\n",
    "\n",
    "* Dense layer is the regular deeply connected neural network layer. It is most common and frequently used \n",
    "layer. Dense layer does operation on the input and return the output.\n",
    "\n",
    "* Activation function we've used is relu (rectifier) for \"Input\" and \"Hidden Layers\" the rectifier is an \n",
    "activation function defined as the positive part of its argument, that will output the input directly if \n",
    "it is positive otherwise it'll output zero.\n",
    "\n",
    "* For the output or final layer we have used sigmoid activation fucntion which output the input in the\n",
    "range between 0 and 1, as a binary classification it is the best activation function to be used.\n",
    "\n",
    "* Avaliable Optimizers are (RMSprop, Adam and SGD) but in all of the given optimizers Adam is the most used\n",
    "affective and efficient optimizing algoritham. \n",
    "\n",
    "'lr': (0.01, 0.001, 0.002),\n",
    "'batch_size': (10, 20, 30),\n",
    "'epochs': [100,150,200],\n",
    "'dropout': (0.2, 0.5, 0.8),\n",
    "'optimizer': [Adam, SGD],\n",
    "'activation':[relu, tanh],\n",
    "'last_activation': [sigmoid]\n",
    "\n",
    "\"\"\"\n",
    "from keras.models import Sequential\n",
    "from keras.layers import Dense\n",
    "model = Sequential()\n",
    "\n",
    "model.add(Dense(64, activation='relu',input_shape=(90,)))\n",
    "model.add(Dense(64, activation='relu'))\n",
    "model.add(Dense(32, activation='relu'))\n",
    "model.add(Dropout(0.3))\n",
    "model.add(Dense(8, activation='relu'))\n",
    "model.add(Dense(1, activation='sigmoid'))\n",
    "\n",
    "model.compile(loss='binary_crossentropy', optimizer='adam', metrics=['accuracy'])\n",
    "history = model.fit(X_train, y_train, validation_split=0.20, epochs=200, batch_size=50)"
   ]
  },
  {
   "cell_type": "markdown",
   "metadata": {},
   "source": [
    "<br><br>\n",
    "### Model Evaluation"
   ]
  },
  {
   "cell_type": "code",
   "execution_count": 41,
   "metadata": {},
   "outputs": [
    {
     "name": "stdout",
     "output_type": "stream",
     "text": [
      "acc: 68.24%\n"
     ]
    }
   ],
   "source": [
    "\"\"\"\n",
    "Model Accuracy\n",
    "\"\"\"\n",
    "scores = model.evaluate(X_train, y_train, verbose=0)\n",
    "print(\"%s: %.2f%%\" % (model.metrics_names[1], scores[1]*100))"
   ]
  },
  {
   "cell_type": "code",
   "execution_count": 42,
   "metadata": {},
   "outputs": [
    {
     "data": {
      "text/plain": [
       "<matplotlib.legend.Legend at 0x1be976692e8>"
      ]
     },
     "execution_count": 42,
     "metadata": {},
     "output_type": "execute_result"
    },
    {
     "data": {
      "image/png": "[encoded data removed]",
      "text/plain": [
       "<Figure size 1296x936 with 1 Axes>"
      ]
     },
     "metadata": {
      "needs_background": "light"
     },
     "output_type": "display_data"
    }
   ],
   "source": [
    "\"\"\"\n",
    "Plotting Loss for Training vs Validity\n",
    "\"\"\"\n",
    "plt.figure(figsize=(18,13))\n",
    "plt.xlabel(\"Epochs\")\n",
    "plt.ylabel(\"Log Loss\")\n",
    "plt.plot(history.history['loss'])\n",
    "plt.plot(history.history['val_loss'])\n",
    "plt.legend(['Training loss', 'Validity loss'])\n",
    "#plt.savefig('Images/Evaluation/NoD_loss.png')"
   ]
  },
  {
   "cell_type": "code",
   "execution_count": 43,
   "metadata": {},
   "outputs": [
    {
     "data": {
      "text/plain": [
       "<matplotlib.legend.Legend at 0x1be986d6668>"
      ]
     },
     "execution_count": 43,
     "metadata": {},
     "output_type": "execute_result"
    },
    {
     "data": {
      "image/png": "[encoded data removed]",
      "text/plain": [
       "<Figure size 1296x936 with 1 Axes>"
      ]
     },
     "metadata": {
      "needs_background": "light"
     },
     "output_type": "display_data"
    }
   ],
   "source": [
    "\"\"\"\n",
    "Plotting Accuracy for Training vs Validity\n",
    "\"\"\"\n",
    "plt.figure(figsize=(18,13))\n",
    "plt.xlabel(\"Epochs\")\n",
    "plt.ylabel(\"Accuracy\")\n",
    "plt.plot(history.history['acc'])\n",
    "plt.plot(history.history['val_acc'])\n",
    "plt.legend(['Training Accuracy', 'Validity Accuracy'])\n",
    "#plt.savefig('Images/Evaluation/NoD_Accuracy.png')"
   ]
  },
  {
   "cell_type": "code",
   "execution_count": 86,
   "metadata": {},
   "outputs": [
    {
     "name": "stdout",
     "output_type": "stream",
     "text": [
      "5140/5140 [==============================] - 0s 51us/step\n",
      "test loss, test acc: [0.6163662857582597, 0.6756809359626548]\n"
     ]
    }
   ],
   "source": [
    "results = model.evaluate(X_test, y_test, batch_size=50)\n",
    "print(\"test loss, test acc:\", results)"
   ]
  },
  {
   "cell_type": "markdown",
   "metadata": {},
   "source": [
    "### Predicting test Set"
   ]
  },
  {
   "cell_type": "code",
   "execution_count": 55,
   "metadata": {},
   "outputs": [
    {
     "data": {
      "application/vnd.plotly.v1+json": {
       "config": {
        "plotlyServerURL": "https://plot.ly"
       },
       "data": [
        {
         "colorscale": [
          [
           0,
           "#440154"
          ],
          [
           0.1111111111111111,
           "#482878"
          ],
          [
           0.2222222222222222,
           "#3e4989"
          ],
          [
           0.3333333333333333,
           "#31688e"
          ],
          [
           0.4444444444444444,
           "#26828e"
          ],
          [
           0.5555555555555556,
           "#1f9e89"
          ],
          [
           0.6666666666666666,
           "#35b779"
          ],
          [
           0.7777777777777778,
           "#6ece58"
          ],
          [
           0.8888888888888888,
           "#b5de2b"
          ],
          [
           1,
           "#fde725"
          ]
         ],
         "reversescale": false,
         "showscale": false,
         "type": "heatmap",
         "x": [
          "Shot No Made",
          "Shot Made"
         ],
         "y": [
          "Shot No Made",
          "Shot Made"
         ],
         "z": [
          [
           2444,
           426
          ],
          [
           1205,
           1065
          ]
         ]
        }
       ],
       "layout": {
        "annotations": [
         {
          "font": {
           "color": "#000000"
          },
          "showarrow": false,
          "text": "2444",
          "x": "Shot No Made",
          "xref": "x",
          "y": "Shot No Made",
          "yref": "y"
         },
         {
          "font": {
           "color": "#FFFFFF"
          },
          "showarrow": false,
          "text": "426",
          "x": "Shot Made",
          "xref": "x",
          "y": "Shot No Made",
          "yref": "y"
         },
         {
          "font": {
           "color": "#FFFFFF"
          },
          "showarrow": false,
          "text": "1205",
          "x": "Shot No Made",
          "xref": "x",
          "y": "Shot Made",
          "yref": "y"
         },
         {
          "font": {
           "color": "#FFFFFF"
          },
          "showarrow": false,
          "text": "1065",
          "x": "Shot Made",
          "xref": "x",
          "y": "Shot Made",
          "yref": "y"
         }
        ],
        "template": {
         "data": {
          "bar": [
           {
            "error_x": {
             "color": "#2a3f5f"
            },
            "error_y": {
             "color": "#2a3f5f"
            },
            "marker": {
             "line": {
              "color": "#E5ECF6",
              "width": 0.5
             }
            },
            "type": "bar"
           }
          ],
          "barpolar": [
           {
            "marker": {
             "line": {
              "color": "#E5ECF6",
              "width": 0.5
             }
            },
            "type": "barpolar"
           }
          ],
          "carpet": [
           {
            "aaxis": {
             "endlinecolor": "#2a3f5f",
             "gridcolor": "white",
             "linecolor": "white",
             "minorgridcolor": "white",
             "startlinecolor": "#2a3f5f"
            },
            "baxis": {
             "endlinecolor": "#2a3f5f",
             "gridcolor": "white",
             "linecolor": "white",
             "minorgridcolor": "white",
             "startlinecolor": "#2a3f5f"
            },
            "type": "carpet"
           }
          ],
          "choropleth": [
           {
            "colorbar": {
             "outlinewidth": 0,
             "ticks": ""
            },
            "type": "choropleth"
           }
          ],
          "contour": [
           {
            "colorbar": {
             "outlinewidth": 0,
             "ticks": ""
            },
            "colorscale": [
             [
              0,
              "#0d0887"
             ],
             [
              0.1111111111111111,
              "#46039f"
             ],
             [
              0.2222222222222222,
              "#7201a8"
             ],
             [
              0.3333333333333333,
              "#9c179e"
             ],
             [
              0.4444444444444444,
              "#bd3786"
             ],
             [
              0.5555555555555556,
              "#d8576b"
             ],
             [
              0.6666666666666666,
              "#ed7953"
             ],
             [
              0.7777777777777778,
              "#fb9f3a"
             ],
             [
              0.8888888888888888,
              "#fdca26"
             ],
             [
              1,
              "#f0f921"
             ]
            ],
            "type": "contour"
           }
          ],
          "contourcarpet": [
           {
            "colorbar": {
             "outlinewidth": 0,
             "ticks": ""
            },
            "type": "contourcarpet"
           }
          ],
          "heatmap": [
           {
            "colorbar": {
             "outlinewidth": 0,
             "ticks": ""
            },
            "colorscale": [
             [
              0,
              "#0d0887"
             ],
             [
              0.1111111111111111,
              "#46039f"
             ],
             [
              0.2222222222222222,
              "#7201a8"
             ],
             [
              0.3333333333333333,
              "#9c179e"
             ],
             [
              0.4444444444444444,
              "#bd3786"
             ],
             [
              0.5555555555555556,
              "#d8576b"
             ],
             [
              0.6666666666666666,
              "#ed7953"
             ],
             [
              0.7777777777777778,
              "#fb9f3a"
             ],
             [
              0.8888888888888888,
              "#fdca26"
             ],
             [
              1,
              "#f0f921"
             ]
            ],
            "type": "heatmap"
           }
          ],
          "heatmapgl": [
           {
            "colorbar": {
             "outlinewidth": 0,
             "ticks": ""
            },
            "colorscale": [
             [
              0,
              "#0d0887"
             ],
             [
              0.1111111111111111,
              "#46039f"
             ],
             [
              0.2222222222222222,
              "#7201a8"
             ],
             [
              0.3333333333333333,
              "#9c179e"
             ],
             [
              0.4444444444444444,
              "#bd3786"
             ],
             [
              0.5555555555555556,
              "#d8576b"
             ],
             [
              0.6666666666666666,
              "#ed7953"
             ],
             [
              0.7777777777777778,
              "#fb9f3a"
             ],
             [
              0.8888888888888888,
              "#fdca26"
             ],
             [
              1,
              "#f0f921"
             ]
            ],
            "type": "heatmapgl"
           }
          ],
          "histogram": [
           {
            "marker": {
             "colorbar": {
              "outlinewidth": 0,
              "ticks": ""
             }
            },
            "type": "histogram"
           }
          ],
          "histogram2d": [
           {
            "colorbar": {
             "outlinewidth": 0,
             "ticks": ""
            },
            "colorscale": [
             [
              0,
              "#0d0887"
             ],
             [
              0.1111111111111111,
              "#46039f"
             ],
             [
              0.2222222222222222,
              "#7201a8"
             ],
             [
              0.3333333333333333,
              "#9c179e"
             ],
             [
              0.4444444444444444,
              "#bd3786"
             ],
             [
              0.5555555555555556,
              "#d8576b"
             ],
             [
              0.6666666666666666,
              "#ed7953"
             ],
             [
              0.7777777777777778,
              "#fb9f3a"
             ],
             [
              0.8888888888888888,
              "#fdca26"
             ],
             [
              1,
              "#f0f921"
             ]
            ],
            "type": "histogram2d"
           }
          ],
          "histogram2dcontour": [
           {
            "colorbar": {
             "outlinewidth": 0,
             "ticks": ""
            },
            "colorscale": [
             [
              0,
              "#0d0887"
             ],
             [
              0.1111111111111111,
              "#46039f"
             ],
             [
              0.2222222222222222,
              "#7201a8"
             ],
             [
              0.3333333333333333,
              "#9c179e"
             ],
             [
              0.4444444444444444,
              "#bd3786"
             ],
             [
              0.5555555555555556,
              "#d8576b"
             ],
             [
              0.6666666666666666,
              "#ed7953"
             ],
             [
              0.7777777777777778,
              "#fb9f3a"
             ],
             [
              0.8888888888888888,
              "#fdca26"
             ],
             [
              1,
              "#f0f921"
             ]
            ],
            "type": "histogram2dcontour"
           }
          ],
          "mesh3d": [
           {
            "colorbar": {
             "outlinewidth": 0,
             "ticks": ""
            },
            "type": "mesh3d"
           }
          ],
          "parcoords": [
           {
            "line": {
             "colorbar": {
              "outlinewidth": 0,
              "ticks": ""
             }
            },
            "type": "parcoords"
           }
          ],
          "pie": [
           {
            "automargin": true,
            "type": "pie"
           }
          ],
          "scatter": [
           {
            "marker": {
             "colorbar": {
              "outlinewidth": 0,
              "ticks": ""
             }
            },
            "type": "scatter"
           }
          ],
          "scatter3d": [
           {
            "line": {
             "colorbar": {
              "outlinewidth": 0,
              "ticks": ""
             }
            },
            "marker": {
             "colorbar": {
              "outlinewidth": 0,
              "ticks": ""
             }
            },
            "type": "scatter3d"
           }
          ],
          "scattercarpet": [
           {
            "marker": {
             "colorbar": {
              "outlinewidth": 0,
              "ticks": ""
             }
            },
            "type": "scattercarpet"
           }
          ],
          "scattergeo": [
           {
            "marker": {
             "colorbar": {
              "outlinewidth": 0,
              "ticks": ""
             }
            },
            "type": "scattergeo"
           }
          ],
          "scattergl": [
           {
            "marker": {
             "colorbar": {
              "outlinewidth": 0,
              "ticks": ""
             }
            },
            "type": "scattergl"
           }
          ],
          "scattermapbox": [
           {
            "marker": {
             "colorbar": {
              "outlinewidth": 0,
              "ticks": ""
             }
            },
            "type": "scattermapbox"
           }
          ],
          "scatterpolar": [
           {
            "marker": {
             "colorbar": {
              "outlinewidth": 0,
              "ticks": ""
             }
            },
            "type": "scatterpolar"
           }
          ],
          "scatterpolargl": [
           {
            "marker": {
             "colorbar": {
              "outlinewidth": 0,
              "ticks": ""
             }
            },
            "type": "scatterpolargl"
           }
          ],
          "scatterternary": [
           {
            "marker": {
             "colorbar": {
              "outlinewidth": 0,
              "ticks": ""
             }
            },
            "type": "scatterternary"
           }
          ],
          "surface": [
           {
            "colorbar": {
             "outlinewidth": 0,
             "ticks": ""
            },
            "colorscale": [
             [
              0,
              "#0d0887"
             ],
             [
              0.1111111111111111,
              "#46039f"
             ],
             [
              0.2222222222222222,
              "#7201a8"
             ],
             [
              0.3333333333333333,
              "#9c179e"
             ],
             [
              0.4444444444444444,
              "#bd3786"
             ],
             [
              0.5555555555555556,
              "#d8576b"
             ],
             [
              0.6666666666666666,
              "#ed7953"
             ],
             [
              0.7777777777777778,
              "#fb9f3a"
             ],
             [
              0.8888888888888888,
              "#fdca26"
             ],
             [
              1,
              "#f0f921"
             ]
            ],
            "type": "surface"
           }
          ],
          "table": [
           {
            "cells": {
             "fill": {
              "color": "#EBF0F8"
             },
             "line": {
              "color": "white"
             }
            },
            "header": {
             "fill": {
              "color": "#C8D4E3"
             },
             "line": {
              "color": "white"
             }
            },
            "type": "table"
           }
          ]
         },
         "layout": {
          "annotationdefaults": {
           "arrowcolor": "#2a3f5f",
           "arrowhead": 0,
           "arrowwidth": 1
          },
          "coloraxis": {
           "colorbar": {
            "outlinewidth": 0,
            "ticks": ""
           }
          },
          "colorscale": {
           "diverging": [
            [
             0,
             "#8e0152"
            ],
            [
             0.1,
             "#c51b7d"
            ],
            [
             0.2,
             "#de77ae"
            ],
            [
             0.3,
             "#f1b6da"
            ],
            [
             0.4,
             "#fde0ef"
            ],
            [
             0.5,
             "#f7f7f7"
            ],
            [
             0.6,
             "#e6f5d0"
            ],
            [
             0.7,
             "#b8e186"
            ],
            [
             0.8,
             "#7fbc41"
            ],
            [
             0.9,
             "#4d9221"
            ],
            [
             1,
             "#276419"
            ]
           ],
           "sequential": [
            [
             0,
             "#0d0887"
            ],
            [
             0.1111111111111111,
             "#46039f"
            ],
            [
             0.2222222222222222,
             "#7201a8"
            ],
            [
             0.3333333333333333,
             "#9c179e"
            ],
            [
             0.4444444444444444,
             "#bd3786"
            ],
            [
             0.5555555555555556,
             "#d8576b"
            ],
            [
             0.6666666666666666,
             "#ed7953"
            ],
            [
             0.7777777777777778,
             "#fb9f3a"
            ],
            [
             0.8888888888888888,
             "#fdca26"
            ],
            [
             1,
             "#f0f921"
            ]
           ],
           "sequentialminus": [
            [
             0,
             "#0d0887"
            ],
            [
             0.1111111111111111,
             "#46039f"
            ],
            [
             0.2222222222222222,
             "#7201a8"
            ],
            [
             0.3333333333333333,
             "#9c179e"
            ],
            [
             0.4444444444444444,
             "#bd3786"
            ],
            [
             0.5555555555555556,
             "#d8576b"
            ],
            [
             0.6666666666666666,
             "#ed7953"
            ],
            [
             0.7777777777777778,
             "#fb9f3a"
            ],
            [
             0.8888888888888888,
             "#fdca26"
            ],
            [
             1,
             "#f0f921"
            ]
           ]
          },
          "colorway": [
           "#636efa",
           "#EF553B",
           "#00cc96",
           "#ab63fa",
           "#FFA15A",
           "#19d3f3",
           "#FF6692",
           "#B6E880",
           "#FF97FF",
           "#FECB52"
          ],
          "font": {
           "color": "#2a3f5f"
          },
          "geo": {
           "bgcolor": "white",
           "lakecolor": "white",
           "landcolor": "#E5ECF6",
           "showlakes": true,
           "showland": true,
           "subunitcolor": "white"
          },
          "hoverlabel": {
           "align": "left"
          },
          "hovermode": "closest",
          "mapbox": {
           "style": "light"
          },
          "paper_bgcolor": "white",
          "plot_bgcolor": "#E5ECF6",
          "polar": {
           "angularaxis": {
            "gridcolor": "white",
            "linecolor": "white",
            "ticks": ""
           },
           "bgcolor": "#E5ECF6",
           "radialaxis": {
            "gridcolor": "white",
            "linecolor": "white",
            "ticks": ""
           }
          },
          "scene": {
           "xaxis": {
            "backgroundcolor": "#E5ECF6",
            "gridcolor": "white",
            "gridwidth": 2,
            "linecolor": "white",
            "showbackground": true,
            "ticks": "",
            "zerolinecolor": "white"
           },
           "yaxis": {
            "backgroundcolor": "#E5ECF6",
            "gridcolor": "white",
            "gridwidth": 2,
            "linecolor": "white",
            "showbackground": true,
            "ticks": "",
            "zerolinecolor": "white"
           },
           "zaxis": {
            "backgroundcolor": "#E5ECF6",
            "gridcolor": "white",
            "gridwidth": 2,
            "linecolor": "white",
            "showbackground": true,
            "ticks": "",
            "zerolinecolor": "white"
           }
          },
          "shapedefaults": {
           "line": {
            "color": "#2a3f5f"
           }
          },
          "ternary": {
           "aaxis": {
            "gridcolor": "white",
            "linecolor": "white",
            "ticks": ""
           },
           "baxis": {
            "gridcolor": "white",
            "linecolor": "white",
            "ticks": ""
           },
           "bgcolor": "#E5ECF6",
           "caxis": {
            "gridcolor": "white",
            "linecolor": "white",
            "ticks": ""
           }
          },
          "title": {
           "x": 0.05
          },
          "xaxis": {
           "automargin": true,
           "gridcolor": "white",
           "linecolor": "white",
           "ticks": "",
           "title": {
            "standoff": 15
           },
           "zerolinecolor": "white",
           "zerolinewidth": 2
          },
          "yaxis": {
           "automargin": true,
           "gridcolor": "white",
           "linecolor": "white",
           "ticks": "",
           "title": {
            "standoff": 15
           },
           "zerolinecolor": "white",
           "zerolinewidth": 2
          }
         }
        },
        "xaxis": {
         "dtick": 1,
         "gridcolor": "rgb(0, 0, 0)",
         "side": "top",
         "ticks": ""
        },
        "yaxis": {
         "dtick": 1,
         "ticks": "",
         "ticksuffix": "  "
        }
       }
      },
      "text/html": [
       "<div>\n",
       "        \n",
       "        \n",
       "            <div id=\"d1601315-f047-47d2-8893-286c59af6247\" class=\"plotly-graph-div\" style=\"height:525px; width:100%;\"></div>\n",
       "            <script type=\"text/javascript\">\n",
       "                require([\"plotly\"], function(Plotly) {\n",
       "                    window.PLOTLYENV=window.PLOTLYENV || {};\n",
       "                    \n",
       "                if (document.getElementById(\"d1601315-f047-47d2-8893-286c59af6247\")) {\n",
       "                    Plotly.newPlot(\n",
       "                        'd1601315-f047-47d2-8893-286c59af6247',\n",
       "                        [{\"colorscale\": [[0.0, \"#440154\"], [0.1111111111111111, \"#482878\"], [0.2222222222222222, \"#3e4989\"], [0.3333333333333333, \"#31688e\"], [0.4444444444444444, \"#26828e\"], [0.5555555555555556, \"#1f9e89\"], [0.6666666666666666, \"#35b779\"], [0.7777777777777778, \"#6ece58\"], [0.8888888888888888, \"#b5de2b\"], [1.0, \"#fde725\"]], \"reversescale\": false, \"showscale\": false, \"type\": \"heatmap\", \"x\": [\"Shot No Made\", \"Shot Made\"], \"y\": [\"Shot No Made\", \"Shot Made\"], \"z\": [[2444, 426], [1205, 1065]]}],\n",
       "                        {\"annotations\": [{\"font\": {\"color\": \"#000000\"}, \"showarrow\": false, \"text\": \"2444\", \"x\": \"Shot No Made\", \"xref\": \"x\", \"y\": \"Shot No Made\", \"yref\": \"y\"}, {\"font\": {\"color\": \"#FFFFFF\"}, \"showarrow\": false, \"text\": \"426\", \"x\": \"Shot Made\", \"xref\": \"x\", \"y\": \"Shot No Made\", \"yref\": \"y\"}, {\"font\": {\"color\": \"#FFFFFF\"}, \"showarrow\": false, \"text\": \"1205\", \"x\": \"Shot No Made\", \"xref\": \"x\", \"y\": \"Shot Made\", \"yref\": \"y\"}, {\"font\": {\"color\": \"#FFFFFF\"}, \"showarrow\": false, \"text\": \"1065\", \"x\": \"Shot Made\", \"xref\": \"x\", \"y\": \"Shot Made\", \"yref\": \"y\"}], \"template\": {\"data\": {\"bar\": [{\"error_x\": {\"color\": \"#2a3f5f\"}, \"error_y\": {\"color\": \"#2a3f5f\"}, \"marker\": {\"line\": {\"color\": \"#E5ECF6\", \"width\": 0.5}}, \"type\": \"bar\"}], \"barpolar\": [{\"marker\": {\"line\": {\"color\": \"#E5ECF6\", \"width\": 0.5}}, \"type\": \"barpolar\"}], \"carpet\": [{\"aaxis\": {\"endlinecolor\": \"#2a3f5f\", \"gridcolor\": \"white\", \"linecolor\": \"white\", \"minorgridcolor\": \"white\", \"startlinecolor\": \"#2a3f5f\"}, \"baxis\": {\"endlinecolor\": \"#2a3f5f\", \"gridcolor\": \"white\", \"linecolor\": \"white\", \"minorgridcolor\": \"white\", \"startlinecolor\": \"#2a3f5f\"}, \"type\": \"carpet\"}], \"choropleth\": [{\"colorbar\": {\"outlinewidth\": 0, \"ticks\": \"\"}, \"type\": \"choropleth\"}], \"contour\": [{\"colorbar\": {\"outlinewidth\": 0, \"ticks\": \"\"}, \"colorscale\": [[0.0, \"#0d0887\"], [0.1111111111111111, \"#46039f\"], [0.2222222222222222, \"#7201a8\"], [0.3333333333333333, \"#9c179e\"], [0.4444444444444444, \"#bd3786\"], [0.5555555555555556, \"#d8576b\"], [0.6666666666666666, \"#ed7953\"], [0.7777777777777778, \"#fb9f3a\"], [0.8888888888888888, \"#fdca26\"], [1.0, \"#f0f921\"]], \"type\": \"contour\"}], \"contourcarpet\": [{\"colorbar\": {\"outlinewidth\": 0, \"ticks\": \"\"}, \"type\": \"contourcarpet\"}], \"heatmap\": [{\"colorbar\": {\"outlinewidth\": 0, \"ticks\": \"\"}, \"colorscale\": [[0.0, \"#0d0887\"], [0.1111111111111111, \"#46039f\"], [0.2222222222222222, \"#7201a8\"], [0.3333333333333333, \"#9c179e\"], [0.4444444444444444, \"#bd3786\"], [0.5555555555555556, \"#d8576b\"], [0.6666666666666666, \"#ed7953\"], [0.7777777777777778, \"#fb9f3a\"], [0.8888888888888888, \"#fdca26\"], [1.0, \"#f0f921\"]], \"type\": \"heatmap\"}], \"heatmapgl\": [{\"colorbar\": {\"outlinewidth\": 0, \"ticks\": \"\"}, \"colorscale\": [[0.0, \"#0d0887\"], [0.1111111111111111, \"#46039f\"], [0.2222222222222222, \"#7201a8\"], [0.3333333333333333, \"#9c179e\"], [0.4444444444444444, \"#bd3786\"], [0.5555555555555556, \"#d8576b\"], [0.6666666666666666, \"#ed7953\"], [0.7777777777777778, \"#fb9f3a\"], [0.8888888888888888, \"#fdca26\"], [1.0, \"#f0f921\"]], \"type\": \"heatmapgl\"}], \"histogram\": [{\"marker\": {\"colorbar\": {\"outlinewidth\": 0, \"ticks\": \"\"}}, \"type\": \"histogram\"}], \"histogram2d\": [{\"colorbar\": {\"outlinewidth\": 0, \"ticks\": \"\"}, \"colorscale\": [[0.0, \"#0d0887\"], [0.1111111111111111, \"#46039f\"], [0.2222222222222222, \"#7201a8\"], [0.3333333333333333, \"#9c179e\"], [0.4444444444444444, \"#bd3786\"], [0.5555555555555556, \"#d8576b\"], [0.6666666666666666, \"#ed7953\"], [0.7777777777777778, \"#fb9f3a\"], [0.8888888888888888, \"#fdca26\"], [1.0, \"#f0f921\"]], \"type\": \"histogram2d\"}], \"histogram2dcontour\": [{\"colorbar\": {\"outlinewidth\": 0, \"ticks\": \"\"}, \"colorscale\": [[0.0, \"#0d0887\"], [0.1111111111111111, \"#46039f\"], [0.2222222222222222, \"#7201a8\"], [0.3333333333333333, \"#9c179e\"], [0.4444444444444444, \"#bd3786\"], [0.5555555555555556, \"#d8576b\"], [0.6666666666666666, \"#ed7953\"], [0.7777777777777778, \"#fb9f3a\"], [0.8888888888888888, \"#fdca26\"], [1.0, \"#f0f921\"]], \"type\": \"histogram2dcontour\"}], \"mesh3d\": [{\"colorbar\": {\"outlinewidth\": 0, \"ticks\": \"\"}, \"type\": \"mesh3d\"}], \"parcoords\": [{\"line\": {\"colorbar\": {\"outlinewidth\": 0, \"ticks\": \"\"}}, \"type\": \"parcoords\"}], \"pie\": [{\"automargin\": true, \"type\": \"pie\"}], \"scatter\": [{\"marker\": {\"colorbar\": {\"outlinewidth\": 0, \"ticks\": \"\"}}, \"type\": \"scatter\"}], \"scatter3d\": [{\"line\": {\"colorbar\": {\"outlinewidth\": 0, \"ticks\": \"\"}}, \"marker\": {\"colorbar\": {\"outlinewidth\": 0, \"ticks\": \"\"}}, \"type\": \"scatter3d\"}], \"scattercarpet\": [{\"marker\": {\"colorbar\": {\"outlinewidth\": 0, \"ticks\": \"\"}}, \"type\": \"scattercarpet\"}], \"scattergeo\": [{\"marker\": {\"colorbar\": {\"outlinewidth\": 0, \"ticks\": \"\"}}, \"type\": \"scattergeo\"}], \"scattergl\": [{\"marker\": {\"colorbar\": {\"outlinewidth\": 0, \"ticks\": \"\"}}, \"type\": \"scattergl\"}], \"scattermapbox\": [{\"marker\": {\"colorbar\": {\"outlinewidth\": 0, \"ticks\": \"\"}}, \"type\": \"scattermapbox\"}], \"scatterpolar\": [{\"marker\": {\"colorbar\": {\"outlinewidth\": 0, \"ticks\": \"\"}}, \"type\": \"scatterpolar\"}], \"scatterpolargl\": [{\"marker\": {\"colorbar\": {\"outlinewidth\": 0, \"ticks\": \"\"}}, \"type\": \"scatterpolargl\"}], \"scatterternary\": [{\"marker\": {\"colorbar\": {\"outlinewidth\": 0, \"ticks\": \"\"}}, \"type\": \"scatterternary\"}], \"surface\": [{\"colorbar\": {\"outlinewidth\": 0, \"ticks\": \"\"}, \"colorscale\": [[0.0, \"#0d0887\"], [0.1111111111111111, \"#46039f\"], [0.2222222222222222, \"#7201a8\"], [0.3333333333333333, \"#9c179e\"], [0.4444444444444444, \"#bd3786\"], [0.5555555555555556, \"#d8576b\"], [0.6666666666666666, \"#ed7953\"], [0.7777777777777778, \"#fb9f3a\"], [0.8888888888888888, \"#fdca26\"], [1.0, \"#f0f921\"]], \"type\": \"surface\"}], \"table\": [{\"cells\": {\"fill\": {\"color\": \"#EBF0F8\"}, \"line\": {\"color\": \"white\"}}, \"header\": {\"fill\": {\"color\": \"#C8D4E3\"}, \"line\": {\"color\": \"white\"}}, \"type\": \"table\"}]}, \"layout\": {\"annotationdefaults\": {\"arrowcolor\": \"#2a3f5f\", \"arrowhead\": 0, \"arrowwidth\": 1}, \"coloraxis\": {\"colorbar\": {\"outlinewidth\": 0, \"ticks\": \"\"}}, \"colorscale\": {\"diverging\": [[0, \"#8e0152\"], [0.1, \"#c51b7d\"], [0.2, \"#de77ae\"], [0.3, \"#f1b6da\"], [0.4, \"#fde0ef\"], [0.5, \"#f7f7f7\"], [0.6, \"#e6f5d0\"], [0.7, \"#b8e186\"], [0.8, \"#7fbc41\"], [0.9, \"#4d9221\"], [1, \"#276419\"]], \"sequential\": [[0.0, \"#0d0887\"], [0.1111111111111111, \"#46039f\"], [0.2222222222222222, \"#7201a8\"], [0.3333333333333333, \"#9c179e\"], [0.4444444444444444, \"#bd3786\"], [0.5555555555555556, \"#d8576b\"], [0.6666666666666666, \"#ed7953\"], [0.7777777777777778, \"#fb9f3a\"], [0.8888888888888888, \"#fdca26\"], [1.0, \"#f0f921\"]], \"sequentialminus\": [[0.0, \"#0d0887\"], [0.1111111111111111, \"#46039f\"], [0.2222222222222222, \"#7201a8\"], [0.3333333333333333, \"#9c179e\"], [0.4444444444444444, \"#bd3786\"], [0.5555555555555556, \"#d8576b\"], [0.6666666666666666, \"#ed7953\"], [0.7777777777777778, \"#fb9f3a\"], [0.8888888888888888, \"#fdca26\"], [1.0, \"#f0f921\"]]}, \"colorway\": [\"#636efa\", \"#EF553B\", \"#00cc96\", \"#ab63fa\", \"#FFA15A\", \"#19d3f3\", \"#FF6692\", \"#B6E880\", \"#FF97FF\", \"#FECB52\"], \"font\": {\"color\": \"#2a3f5f\"}, \"geo\": {\"bgcolor\": \"white\", \"lakecolor\": \"white\", \"landcolor\": \"#E5ECF6\", \"showlakes\": true, \"showland\": true, \"subunitcolor\": \"white\"}, \"hoverlabel\": {\"align\": \"left\"}, \"hovermode\": \"closest\", \"mapbox\": {\"style\": \"light\"}, \"paper_bgcolor\": \"white\", \"plot_bgcolor\": \"#E5ECF6\", \"polar\": {\"angularaxis\": {\"gridcolor\": \"white\", \"linecolor\": \"white\", \"ticks\": \"\"}, \"bgcolor\": \"#E5ECF6\", \"radialaxis\": {\"gridcolor\": \"white\", \"linecolor\": \"white\", \"ticks\": \"\"}}, \"scene\": {\"xaxis\": {\"backgroundcolor\": \"#E5ECF6\", \"gridcolor\": \"white\", \"gridwidth\": 2, \"linecolor\": \"white\", \"showbackground\": true, \"ticks\": \"\", \"zerolinecolor\": \"white\"}, \"yaxis\": {\"backgroundcolor\": \"#E5ECF6\", \"gridcolor\": \"white\", \"gridwidth\": 2, \"linecolor\": \"white\", \"showbackground\": true, \"ticks\": \"\", \"zerolinecolor\": \"white\"}, \"zaxis\": {\"backgroundcolor\": \"#E5ECF6\", \"gridcolor\": \"white\", \"gridwidth\": 2, \"linecolor\": \"white\", \"showbackground\": true, \"ticks\": \"\", \"zerolinecolor\": \"white\"}}, \"shapedefaults\": {\"line\": {\"color\": \"#2a3f5f\"}}, \"ternary\": {\"aaxis\": {\"gridcolor\": \"white\", \"linecolor\": \"white\", \"ticks\": \"\"}, \"baxis\": {\"gridcolor\": \"white\", \"linecolor\": \"white\", \"ticks\": \"\"}, \"bgcolor\": \"#E5ECF6\", \"caxis\": {\"gridcolor\": \"white\", \"linecolor\": \"white\", \"ticks\": \"\"}}, \"title\": {\"x\": 0.05}, \"xaxis\": {\"automargin\": true, \"gridcolor\": \"white\", \"linecolor\": \"white\", \"ticks\": \"\", \"title\": {\"standoff\": 15}, \"zerolinecolor\": \"white\", \"zerolinewidth\": 2}, \"yaxis\": {\"automargin\": true, \"gridcolor\": \"white\", \"linecolor\": \"white\", \"ticks\": \"\", \"title\": {\"standoff\": 15}, \"zerolinecolor\": \"white\", \"zerolinewidth\": 2}}}, \"xaxis\": {\"dtick\": 1, \"gridcolor\": \"rgb(0, 0, 0)\", \"side\": \"top\", \"ticks\": \"\"}, \"yaxis\": {\"dtick\": 1, \"ticks\": \"\", \"ticksuffix\": \"  \"}},\n",
       "                        {\"responsive\": true}\n",
       "                    ).then(function(){\n",
       "                            \n",
       "var gd = document.getElementById('d1601315-f047-47d2-8893-286c59af6247');\n",
       "var x = new MutationObserver(function (mutations, observer) {{\n",
       "        var display = window.getComputedStyle(gd).display;\n",
       "        if (!display || display === 'none') {{\n",
       "            console.log([gd, 'removed!']);\n",
       "            Plotly.purge(gd);\n",
       "            observer.disconnect();\n",
       "        }}\n",
       "}});\n",
       "\n",
       "// Listen for the removal of the full notebook cells\n",
       "var notebookContainer = gd.closest('#notebook-container');\n",
       "if (notebookContainer) {{\n",
       "    x.observe(notebookContainer, {childList: true});\n",
       "}}\n",
       "\n",
       "// Listen for the clearing of the current output cell\n",
       "var outputEl = gd.closest('.output');\n",
       "if (outputEl) {{\n",
       "    x.observe(outputEl, {childList: true});\n",
       "}}\n",
       "\n",
       "                        })\n",
       "                };\n",
       "                });\n",
       "            </script>\n",
       "        </div>"
      ]
     },
     "metadata": {},
     "output_type": "display_data"
    }
   ],
   "source": [
    "import plotly.figure_factory as ff\n",
    "Y_predict = model.predict_classes(X_test)\n",
    "cf_matrix = confusion_matrix(y_test, Y_predict)\n",
    "\n",
    "x = ['Shot No Made', 'Shot Made']\n",
    "y =  ['Shot No Made', 'Shot Made']\n",
    "z_text = [[str(y) for y in x] for x in cf_matrix]\n",
    "\n",
    "fig = ff.create_annotated_heatmap(cf_matrix, x=x, y=y, annotation_text=z_text, colorscale='Viridis')\n",
    "fig.show()"
   ]
  },
  {
   "cell_type": "code",
   "execution_count": 88,
   "metadata": {},
   "outputs": [],
   "source": [
    "\"\"\"\n",
    "Model Evaluation using Precision Recall F1Score\n",
    "\"\"\"\n",
    "Precision, Recall, F1Score, _ = precision_recall_fscore_support(y_test, Y_predict, average='macro')\n",
    "Precision = np.round(Precision,3) \n",
    "Recall = np.round(Recall,3) \n",
    "F1Score = np.round(F1Score,3) "
   ]
  },
  {
   "cell_type": "code",
   "execution_count": 89,
   "metadata": {},
   "outputs": [
    {
     "data": {
      "text/plain": [
       "<BarContainer object of 3 artists>"
      ]
     },
     "execution_count": 89,
     "metadata": {},
     "output_type": "execute_result"
    },
    {
     "data": {
      "image/png": "[encoded data removed]",
      "text/plain": [
       "<Figure size 1296x864 with 1 Axes>"
      ]
     },
     "metadata": {},
     "output_type": "display_data"
    }
   ],
   "source": [
    "plt.figure(figsize=(18,12))\n",
    "plt.bar([\"Precision {}\".format(Precision), \"Recall {}\".format(Recall), \"F1Score {}\".format(F1Score)], [Precision, Recall, F1Score])\n",
    "#plt.savefig('Images/Evaluation/{}.png'.format(\"NoD_precision_recall_fscore\"))"
   ]
  },
  {
   "cell_type": "code",
   "execution_count": null,
   "metadata": {},
   "outputs": [],
   "source": []
  }
 ],
 "metadata": {
  "kernelspec": {
   "display_name": "Python 3.6 (tensorflow)",
   "language": "python",
   "name": "tensorflow"
  },
  "language_info": {
   "codemirror_mode": {
    "name": "ipython",
    "version": 3
   },
   "file_extension": ".py",
   "mimetype": "text/x-python",
   "name": "python",
   "nbconvert_exporter": "python",
   "pygments_lexer": "ipython3",
   "version": "3.6.12"
  }
 },
 "nbformat": 4,
 "nbformat_minor": 4
}
